{
 "cells": [
  {
   "cell_type": "code",
   "execution_count": 5,
   "metadata": {},
   "outputs": [],
   "source": [
    "from collections import defaultdict\n",
    "import nlp2\n",
    "import ngrams"
   ]
  },
  {
   "cell_type": "code",
   "execution_count": 2,
   "metadata": {},
   "outputs": [],
   "source": [
    "def load_charmap(filename):\n",
    "    pro_dict = defaultdict(list)\n",
    "    with open(filename) as f:\n",
    "        for line in f:\n",
    "            chinese_char,pron = line.split()\n",
    "            pro_dict[pron].append(chinese_char)\n",
    "    return pro_dict"
   ]
  },
  {
   "cell_type": "code",
   "execution_count": 21,
   "metadata": {},
   "outputs": [
    {
     "name": "stdout",
     "output_type": "stream",
     "text": [
      "484\n"
     ]
    }
   ],
   "source": [
    "# Number of tokens with pronounciation yi\n",
    "pro_dict = load_charmap(\"charmap\")\n",
    "print(len(pro_dict['yi']))\n"
   ]
  },
  {
   "cell_type": "code",
   "execution_count": 62,
   "metadata": {},
   "outputs": [
    {
     "name": "stdout",
     "output_type": "stream",
     "text": [
      "买多了 为啥给我说 rm [ 老师给面子 ^ . 上海对我来说是另外个世界 .\n",
      "['/', '/', 'smartvps', '.']\n"
     ]
    },
    {
     "data": {
      "text/plain": [
       "1499"
      ]
     },
     "execution_count": 62,
     "metadata": {},
     "output_type": "execute_result"
    }
   ],
   "source": [
    "training_data = nlp2.read_data(\"/home/johmy592/TDDE09/lab2-extra/train.han\")\n",
    "model = nlp2.train(ngrams.Model, 1, training_data)\n",
    "print(\" \".join(model.generate()))\n",
    "print(training_data[100])\n",
    "#model.total(tuple(training_data[100][:3]))\n",
    "model.prob((),'smartvps')\n",
    "model.freq((),training_data[2][1])"
   ]
  }
 ],
 "metadata": {
  "kernelspec": {
   "display_name": "Python 3",
   "language": "python",
   "name": "python3"
  },
  "language_info": {
   "codemirror_mode": {
    "name": "ipython",
    "version": 3
   },
   "file_extension": ".py",
   "mimetype": "text/x-python",
   "name": "python",
   "nbconvert_exporter": "python",
   "pygments_lexer": "ipython3",
   "version": "3.4.3"
  }
 },
 "nbformat": 4,
 "nbformat_minor": 2
}
