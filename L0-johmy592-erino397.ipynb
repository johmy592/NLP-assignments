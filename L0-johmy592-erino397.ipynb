{
 "cells": [
  {
   "cell_type": "markdown",
   "metadata": {},
   "source": [
    "<div class=\"alert alert-danger\">\n",
    "**Due date:** 2018-01-19\n",
    "</div>"
   ]
  },
  {
   "cell_type": "markdown",
   "metadata": {},
   "source": [
    "# L0: Text segmentation"
   ]
  },
  {
   "cell_type": "markdown",
   "metadata": {},
   "source": [
    "## Introduction"
   ]
  },
  {
   "cell_type": "markdown",
   "metadata": {},
   "source": [
    "From a computer&rsquo;s perspective, a text in the first place is a sequence of characters, such as letters and digits. Before we can process a text with language technology tools, we need to segment it into linguistically more meaningful units, such as paragraphs, sentences, or words. This basic technique is called **text segmentation**. When the target units are words, segmentation is called **tokenisation**. In this lab you will implement a simple tokeniser for running text."
   ]
  },
  {
   "cell_type": "code",
   "execution_count": 1,
   "metadata": {},
   "outputs": [],
   "source": [
    "import nlp0"
   ]
  },
  {
   "cell_type": "markdown",
   "metadata": {},
   "source": [
    "## Data"
   ]
  },
  {
   "cell_type": "markdown",
   "metadata": {},
   "source": [
    "The text you will be working with is an article from Swedish Wikipedia: [Gustav III](https://sv.wikipedia.org/wiki/Gustav_III). Look at the webpage and see how it is structured.\n",
    "\n",
    "A Wikipedia page consists not only of text but also of other data, such as pictures and tables. Before you can start tokenising the text, you would usually need to extract it from the page using a tool like [Scrapy](https://scrapy.org). For this lab this has been already done for you, which means that your starting point will be the extracted text.\n",
    "\n",
    "### Read in the raw text\n",
    "\n",
    "In order to read in the extracted text in Python, we define a helper function `read_data()`. The function opens the given file and returns its content as a list with lines of text. The textfile uses newline characters (`\\n`) to end each line; this character is removed using Python's [`str.rstrip()`](https://docs.python.org/3.5/library/stdtypes.html#str.rstrip)."
   ]
  },
  {
   "cell_type": "code",
   "execution_count": 2,
   "metadata": {},
   "outputs": [],
   "source": [
    "def read_data(filename):\n",
    "    with open(filename) as f:\n",
    "        return [line.rstrip() for line in f]"
   ]
  },
  {
   "cell_type": "markdown",
   "metadata": {},
   "source": [
    "You can now read in the raw text:"
   ]
  },
  {
   "cell_type": "code",
   "execution_count": 3,
   "metadata": {},
   "outputs": [],
   "source": [
    "text1 = read_data(\"/home/TDDE09/labs/l0/data/text1.txt\")"
   ]
  },
  {
   "cell_type": "markdown",
   "metadata": {},
   "source": [
    "Look at the text in a text editor and try to identify peculiarities that might create problems for further analysis. The text is automatically extracted, using methods that read the data from the website&rsquo;s HTML tree.\n",
    "\n",
    "You can even look at the text directly from the notebook. The next command prints a list with the first 50&nbsp;lines of the text:"
   ]
  },
  {
   "cell_type": "code",
   "execution_count": 4,
   "metadata": {},
   "outputs": [
    {
     "name": "stdout",
     "output_type": "stream",
     "text": [
      "['Gustav III', ', född', '13 januari', ' (', 'g.s.', ')/', '24 januari', ' (', 'n.s.', ')', '1746', ', död', '29 mars', '', '1792', ', var', 'Sveriges kung', ' 1771–1792.', '', 'Han var son till', 'Adolf Fredrik', ' och', 'Lovisa Ulrika', ', bror till', 'Karl XIII', ', far till', 'Gustav IV Adolf', ', och kusin till', 'Katarina II av Ryssland', '. På grund av sitt stora kulturintresse – han instiftade bland annat', 'Svenska Akademien', ' – kallas han ibland \"Teaterkungen\".', '[', '1', ']', ' 1772 genomförde han', 'Gustav III:s statskupp', ', då regeringen avsattes, Sveriges första politiska partier tvångsupplöstes och kungen blev i praktiken enväldig. Hans', 'upplysta despotism', ' bekräftades senare genom en inskränkt tryckfrihetsförordning 1774 och', 'förenings- och säkerhetsakten', ' 1789, som kraftigt begränsade riksdagens makt. Samtidigt liberaliserades ekonomin och strafflagstiftningen,', 'dödsstraffet', ' begränsades,', 'tortyr', ' under förhör förbjöds och tortyrkammaren i Stockholm stängdes för gott. Under inflytande av', 'Voltaire', ' och svenska religiösa ledare tillät han också en ny typ av', 'religionsfrihet', '.']\n"
     ]
    }
   ],
   "source": [
    "print(text1[:50])"
   ]
  },
  {
   "cell_type": "markdown",
   "metadata": {},
   "source": [
    "The following code snippet recreates the content from the text file in lines 51 to 60, glueing the lines together using the newline character:"
   ]
  },
  {
   "cell_type": "code",
   "execution_count": 5,
   "metadata": {},
   "outputs": [
    {
     "name": "stdout",
     "output_type": "stream",
     "text": [
      "Katoliker\n",
      " och\n",
      "judar\n",
      " tilläts att bosätta sig i riket, dock med begränsade medborgerliga rättigheter.\n",
      "\n",
      "Hans krig mot Ryssland 1788-1790 slutade utan landvinningar eller -förluster efter\n",
      "slaget vid Svensksund\n",
      ", som blev en seger mot den ryska flottan. Gustav var personlig vän med det franska kungahuset och engagerade sig i motståndet mot den\n",
      "franska revolutionen\n",
      " och undertryckte all opposition med järnhand. Hans politik gjorde honom impopulär inom delar av adeln och det bildades en sammansvärjning för att avsätta honom. Han skadesköts vid ett\n"
     ]
    }
   ],
   "source": [
    "print(\"\\n\".join(text1[50:60]))"
   ]
  },
  {
   "cell_type": "markdown",
   "metadata": {},
   "source": [
    "### Read in the gold standard\n",
    "\n",
    "There exists a gold standard tokenisation for the raw text. This tokenisation follows the rules used in the [Stockholm–Umeå Corpus (SUC)](https://spraakbanken.gu.se/swe/resurs/suc3), a standard corpus for Swedish. The file containing the gold standard tokenisation consists of all tokens from the raw text, with one token per line."
   ]
  },
  {
   "cell_type": "code",
   "execution_count": 6,
   "metadata": {},
   "outputs": [],
   "source": [
    "gold1 = read_data(\"/home/TDDE09/labs/l0/data/gold1.txt\")"
   ]
  },
  {
   "cell_type": "markdown",
   "metadata": {},
   "source": [
    "Look at the gold standard and try to understand the principles it is based on. Most tokens are normal words or punctuation marks, but note that abbreviations are handled as one token."
   ]
  },
  {
   "cell_type": "code",
   "execution_count": 7,
   "metadata": {},
   "outputs": [
    {
     "name": "stdout",
     "output_type": "stream",
     "text": [
      "['Gustav', 'III', ',', 'född', '13', 'januari', '(', 'g.s.', ')', '/', '24', 'januari', '(', 'n.s.', ')', '1746', ',', 'död', '29', 'mars', '1792', ',', 'var', 'Sveriges', 'kung', '1771', '–', '1792', '.', 'Han', 'var', 'son', 'till', 'Adolf', 'Fredrik', 'och', 'Lovisa', 'Ulrika', ',', 'bror', 'till', 'Karl', 'XIII', ',', 'far', 'till', 'Gustav', 'IV', 'Adolf', ',']\n"
     ]
    }
   ],
   "source": [
    "print(gold1[:50])"
   ]
  },
  {
   "cell_type": "markdown",
   "metadata": {},
   "source": [
    "## Whitespace tokenisation"
   ]
  },
  {
   "cell_type": "markdown",
   "metadata": {},
   "source": [
    "The next cell contains a very simple tokeniser:"
   ]
  },
  {
   "cell_type": "code",
   "execution_count": 8,
   "metadata": {},
   "outputs": [],
   "source": [
    "def tokenize_ws(lines):\n",
    "    tokens = []\n",
    "    for line in lines:\n",
    "        for token in line.split():\n",
    "            tokens.append(token)\n",
    "    return tokens"
   ]
  },
  {
   "cell_type": "markdown",
   "metadata": {},
   "source": [
    "This function takes a list with text lines, splits every line at whitespace using the function [`str.split()`](https://docs.python.org/3.5/library/stdtypes.html#str.split), and collects the resulting strings in a list `tokens`.\n",
    "\n",
    "### Compare the tokenisation with the gold standard\n",
    "\n",
    "Test the tokeniser on the first 50 lines of the text:"
   ]
  },
  {
   "cell_type": "code",
   "execution_count": 9,
   "metadata": {},
   "outputs": [
    {
     "name": "stdout",
     "output_type": "stream",
     "text": [
      "['Gustav', 'III', ',', 'född', '13', 'januari', '(', 'g.s.', ')/', '24', 'januari', '(', 'n.s.', ')', '1746', ',', 'död', '29', 'mars', '1792', ',', 'var', 'Sveriges', 'kung', '1771–1792.', 'Han', 'var', 'son', 'till', 'Adolf', 'Fredrik', 'och', 'Lovisa', 'Ulrika', ',', 'bror', 'till', 'Karl', 'XIII', ',', 'far', 'till', 'Gustav', 'IV', 'Adolf', ',', 'och', 'kusin', 'till', 'Katarina', 'II', 'av', 'Ryssland', '.', 'På', 'grund', 'av', 'sitt', 'stora', 'kulturintresse', '–', 'han', 'instiftade', 'bland', 'annat', 'Svenska', 'Akademien', '–', 'kallas', 'han', 'ibland', '\"Teaterkungen\".', '[', '1', ']', '1772', 'genomförde', 'han', 'Gustav', 'III:s', 'statskupp', ',', 'då', 'regeringen', 'avsattes,', 'Sveriges', 'första', 'politiska', 'partier', 'tvångsupplöstes', 'och', 'kungen', 'blev', 'i', 'praktiken', 'enväldig.', 'Hans', 'upplysta', 'despotism', 'bekräftades', 'senare', 'genom', 'en', 'inskränkt', 'tryckfrihetsförordning', '1774', 'och', 'förenings-', 'och', 'säkerhetsakten', '1789,', 'som', 'kraftigt', 'begränsade', 'riksdagens', 'makt.', 'Samtidigt', 'liberaliserades', 'ekonomin', 'och', 'strafflagstiftningen,', 'dödsstraffet', 'begränsades,', 'tortyr', 'under', 'förhör', 'förbjöds', 'och', 'tortyrkammaren', 'i', 'Stockholm', 'stängdes', 'för', 'gott.', 'Under', 'inflytande', 'av', 'Voltaire', 'och', 'svenska', 'religiösa', 'ledare', 'tillät', 'han', 'också', 'en', 'ny', 'typ', 'av', 'religionsfrihet', '.']\n"
     ]
    }
   ],
   "source": [
    "print(tokenize_ws(text1[:50]))"
   ]
  },
  {
   "cell_type": "markdown",
   "metadata": {},
   "source": [
    "Compare this tokenisation with the gold standard. Which differences do you find?\n",
    "\n",
    "Most differences can be explained as **undersegmentation**, where the tokeniser has missed to split a token. The opposite is **oversegmentation**, where the tokeniser splits a character sequence that should really be one token.\n",
    "\n",
    "In order to examine the differences, you can use the function `diff()` from the lab module. This function expects two arguments, a list with gold standard tokens and a list with automatically predicted tokens. It returns a new list that shows the differences between the two tokenisations in a compact way. The following command shows the first ten differences:"
   ]
  },
  {
   "cell_type": "code",
   "execution_count": 10,
   "metadata": {},
   "outputs": [
    {
     "data": {
      "text/plain": [
       "[([')', '/'], [')/']),\n",
       " (['1771', '–', '1792', '.'], ['1771–1792.']),\n",
       " (['\"', 'Teaterkungen', '\"', '.'], ['\"Teaterkungen\".']),\n",
       " (['avsattes', ','], ['avsattes,']),\n",
       " (['enväldig', '.'], ['enväldig.']),\n",
       " (['1789', ','], ['1789,']),\n",
       " (['makt', '.'], ['makt.']),\n",
       " (['strafflagstiftningen', ','], ['strafflagstiftningen,']),\n",
       " (['begränsades', ','], ['begränsades,']),\n",
       " (['gott', '.'], ['gott.'])]"
      ]
     },
     "execution_count": 10,
     "metadata": {},
     "output_type": "execute_result"
    }
   ],
   "source": [
    "nlp0.diff(gold1, tokenize_ws(text1))[:10]"
   ]
  },
  {
   "cell_type": "markdown",
   "metadata": {},
   "source": [
    "The list contains pairs whose first component is a sequence of tokens that appear in the gold standard but not in the automatic tokenisation, and whose second component is a sequence of tokens that appear in the automatic tokenisation but not in the gold standard. The following code snippet prints the list in a more readable way:"
   ]
  },
  {
   "cell_type": "code",
   "execution_count": 11,
   "metadata": {},
   "outputs": [
    {
     "name": "stdout",
     "output_type": "stream",
     "text": [
      "Gold tokens                              Predicted tokens                        \n",
      "\n",
      ") / 2                                    )/ 1                                    \n",
      "1771 – 1792 . 4                          1771–1792. 1                            \n",
      "\" Teaterkungen \" . 4                     \"Teaterkungen\". 1                       \n",
      "avsattes , 2                             avsattes, 1                             \n",
      "enväldig . 2                             enväldig. 1                             \n",
      "1789 , 2                                 1789, 1                                 \n",
      "makt . 2                                 makt. 1                                 \n",
      "strafflagstiftningen , 2                 strafflagstiftningen, 1                 \n",
      "begränsades , 2                          begränsades, 1                          \n",
      "gott . 2                                 gott. 1                                 \n",
      "riket , 2                                riket, 1                                \n",
      "rättigheter . 2                          rättigheter. 1                          \n",
      "flottan . 2                              flottan. 1                              \n",
      "järnhand . 2                             järnhand. 1                             \n",
      "honom . 2                                honom. 1                                \n",
      "senare . 2                               senare. 1                               \n",
      "begåvade , 2                             begåvade, 1                             \n",
      "historien . 2                            historien. 1                            \n",
      "synvinklar . 2                           synvinklar. 1                           \n",
      "löd ; Gustaf , 4                         löd; Gustaf, 2                          \n",
      "Sveriges , 2                             Sveriges, 1                             \n",
      "Konung , etc. , 4                        Konung, etc., 2                         \n",
      "Norge , 2                                Norge, 1                                \n",
      "III , 2                                  III, 1                                  \n",
      "son , 2                                  son, 1                                  \n",
      "Kungshuset , 2                           Kungshuset, 1                           \n",
      ") . 2                                    ). 1                                    \n",
      "guvernörer , 2                           guvernörer, 1                           \n",
      "uppfostran . 2                           uppfostran. 1                           \n",
      "honom , 2                                honom, 1                                \n",
      "guvernör ) , 3                           guvernör), 1                            \n",
      "öppet , 2                                öppet, 1                                \n",
      "närvaro , 2                              närvaro, 1                              \n",
      "missnöje , 2                             missnöje, 1                             \n",
      "ständer . 2                              ständer. 1                              \n",
      "( 1766 ) 3                               (1766) 1                                \n",
      "mor , 2                                  mor, 1                                  \n",
      "prinsessan . 2                           prinsessan. 1                           \n",
      "han , 2                                  han, 1                                  \n",
      "sida , 2                                 sida, 1                                 \n",
      "hopp . 2                                 hopp. 1                                 \n",
      "statsskicket . 2                         statsskicket. 1                         \n",
      "( 1746 – 1813 ) . 6                      (1746–1813). 1                          \n",
      "närvaro . 2                              närvaro. 1                              \n",
      "resan . 2                                resan. 1                                \n",
      "riksdagen . 2                            riksdagen. 1                            \n",
      "ledning . 2                              ledning. 1                              \n",
      "Storkyrkan . 2                           Storkyrkan. 1                           \n",
      "medhjälpare , 2                          medhjälpare, 1                          \n",
      "regeringen . 2                           regeringen. 1                           \n",
      "detta , 2                                detta, 1                                \n",
      "Finland , 2                              Finland, 1                              \n",
      "huvudstaden . 2                          huvudstaden. 1                          \n",
      "1772 , 2                                 1772, 1                                 \n",
      "frigavs . 2                              frigavs. 1                              \n",
      "nya , 2                                  nya, 1                                  \n",
      "kungen , 2                               kungen, 1                               \n",
      "verksamhet , 2                           verksamhet, 1                           \n",
      "statsmakterna . 2                        statsmakterna. 1                        \n",
      "kärlek . 2                               kärlek. 1                               \n",
      "män , 2                                  män, 1                                  \n",
      "flera , 2                                flera, 1                                \n",
      "områden : 2                              områden: 1                              \n",
      "( 1772 ) , 4                             (1772), 1                               \n",
      "hälsovården , 2                          hälsovården, 1                          \n",
      "ämbetsmän , 2                            ämbetsmän, 1                            \n",
      "( 1775 och 1780 ) , 6                    (1775 och 1780), 3                      \n",
      "( 1773 ) , 4                             (1773), 1                               \n",
      "tillåtna , 2                             tillåtna, 1                             \n",
      "skick , 2                                skick, 1                                \n",
      "1777 . 2                                 1777. 1                                 \n",
      "avskaffades , 2                          avskaffades, 1                          \n",
      "bekände . 2                              bekände. 1                              \n",
      "stat . 2                                 stat. 1                                 \n",
      "1776 : 2                                 1776: 1                                 \n",
      "1779 , 2                                 1779, 1                                 \n",
      "1785 , 2                                 1785, 1                                 \n",
      "1786 . 2                                 1786. 1                                 \n",
      "frihet . 2                               frihet. 1                               \n",
      "ämnen , 2                                ämnen, 1                                \n",
      "tryckfriheten . 2                        tryckfriheten. 1                        \n",
      "1766 . 2                                 1766. 1                                 \n",
      "opposition , 2                           opposition, 1                           \n",
      "envälde . 2                              envälde. 1                              \n",
      "kungen . 2                               kungen. 1                               \n",
      "dödsstraff . 2                           dödsstraff. 1                           \n",
      "dödsstraff . 2                           dödsstraff. 1                           \n",
      "antagande . 2                            antagande. 1                            \n",
      "stämningen . 2                           stämningen. 1                           \n",
      "utåt . 2                                 utåt. 1                                 \n",
      "tillbaka . 2                             tillbaka. 1                             \n",
      "utrikesminister . 2                      utrikesminister. 1                      \n",
      "män , 2                                  män, 1                                  \n",
      "inflytelserika . 2                       inflytelserika. 1                       \n",
      "anfall . 2                               anfall. 1                               \n",
      "Ryssland . 2                             Ryssland. 1                             \n",
      "krig . 2                                 krig. 1                                 \n",
      "planen , 2                               planen, 1                               \n",
      "( 1783 – 1784 ) . 6                      (1783–1784). 1                          \n",
      "landet . 2                               landet. 1                               \n",
      "oppositionen , 2                         oppositionen, 1                         \n",
      "stånden . 2                              stånden. 1                              \n",
      "hovet , 2                                hovet, 1                                \n",
      "bifall , 2                               bifall, 1                               \n",
      "reformarbetet , 2                        reformarbetet, 1                        \n",
      "mera , 2                                 mera, 1                                 \n",
      "kraftigare . 2                           kraftigare. 1                           \n",
      "krig . 2                                 krig. 1                                 \n",
      "tjänst , 2                               tjänst, 1                               \n",
      "läge . 2                                 läge. 1                                 \n",
      "elände . 2                               elände. 1                               \n",
      "glädje . 2                               glädje. 1                               \n",
      "tillfället , 2                           tillfället, 1                           \n",
      "upprustning . 2                          upprustning. 1                          \n",
      "Danmark , 2                              Danmark, 1                              \n",
      "1787 , 2                                 1787, 1                                 \n",
      "krigsförklaring , 2                      krigsförklaring, 1                      \n",
      "själv . 2                                själv. 1                                \n",
      "intet , 2                                intet, 1                                \n",
      "flottan , 2                              flottan, 1                              \n",
      "misslyckades , 2                         misslyckades, 1                         \n",
      "myteri , 2                               myteri, 1                               \n",
      "officerskåren . 2                        officerskåren. 1                        \n",
      "olyckan , 2                              olyckan, 1                              \n",
      "officersupproret , 2                     officersupproret, 1                     \n",
      "domen ; 2                                domen; 1                                \n",
      "år . 2                                   år. 1                                   \n",
      "plötsligen , 2                           plötsligen, 1                           \n",
      "1789 , 2                                 1789, 1                                 \n",
      "flera ) 2                                flera) 1                                \n",
      "makt , 2                                 makt, 1                                 \n",
      "envälde . Kriget , 4                     envälde. Kriget, 2                      \n",
      "vintermånaderna , 2                      vintermånaderna, 1                      \n",
      "åren . 2                                 åren. 1                                 \n",
      "fältherreegenskaper , 2                  fältherreegenskaper, 1                  \n",
      "lands : 2                                lands: 1                                \n",
      "1790 , 2                                 1790, 1                                 \n",
      "1790 . 2                                 1790. 1                                 \n",
      "någonsin . 2                             någonsin. 1                             \n",
      "erövringsdrömmar . 2                     erövringsdrömmar. 1                     \n",
      "krigsplaner . 2                          krigsplaner. 1                          \n",
      "kungafamiljen , 2                        kungafamiljen, 1                        \n",
      "Frankrike . 2                            Frankrike. 1                            \n",
      "sida . 2                                 sida. 1                                 \n",
      "resultat , 2                             resultat, 1                             \n",
      "makterna , 2                             makterna, 1                             \n",
      "uträtta . 2                              uträtta. 1                              \n",
      "1789 , 2                                 1789, 1                                 \n",
      "envåldshärskare , 2                      envåldshärskare, 1                      \n",
      "1772 . 2                                 1772. 1                                 \n",
      "1791 – 1792 3                            1791–1792 1                             \n",
      "adeln , 2                                adeln, 1                                \n",
      "regeringssättet . 2                      regeringssättet. 1                      \n",
      "sistnämnde . 2                           sistnämnde. 1                           \n",
      "attentatsplanerna , 2                    attentatsplanerna, 1                    \n",
      "rådgivare . 2                            rådgivare. 1                            \n",
      "bevis , 2                                bevis, 1                                \n",
      "domarämbete . 2                          domarämbete. 1                          \n",
      "1792 . 2                                 1792. 1                                 \n",
      "Drabantsal , 2                           Drabantsal, 1                           \n",
      "brevet , 2                               brevet, 1                               \n",
      "sig , 2                                  sig, 1                                  \n",
      "balen . 2                                balen. 1                                \n",
      "ner . 2                                  ner. 1                                  \n",
      "\" Skola 2                                \"Skola 1                                \n",
      "tro , 2                                  tro, 1                                  \n",
      "rädd ? \" . 4                             rädd?\". 1                               \n",
      "mask , 2                                 mask, 1                                 \n",
      "sidenkappan . 2                          sidenkappan. 1                          \n",
      "synliga . 2                              synliga. 1                              \n",
      "logen , 2                                logen, 1                                \n",
      "raden , 2                                raden, 1                                \n",
      "scen . 2                                 scen. 1                                 \n",
      "masker . 2                               masker. 1                               \n",
      "franska ; \" Bonsoir , 5                  franska; \"Bonsoir, 2                    \n",
      "masque ! \" ( \" God afton , 8             masque!\" (\"God afton, 3                 \n",
      "mask ! \" ) , 5                           mask!\"), 1                              \n",
      "håll . 2                                 håll. 1                                 \n",
      "ryggslutet . 2                           ryggslutet. 1                           \n",
      "till , 2                                 till, 1                                 \n",
      "Essen , 2                                Essen, 1                                \n",
      "franska ; \" Ah ! 5                       franska; \"Ah! 2                         \n",
      "blessé , 2                               blessé, 1                               \n",
      "arrêtez-le \" ( \" Aj ! 6                  arrêtez-le\" (\"Aj! 2                     \n",
      "sårad , 2                                sårad, 1                                \n",
      "honom ! \" ) . 5                          honom!\"). 1                             \n",
      "\" Elden 2                                \"Elden 1                                \n",
      "lös ! \" , 4                              lös!\", 1                                \n",
      "fly . 2                                  fly. 1                                  \n",
      "platsen , 2                              platsen, 1                              \n",
      "dagar . 2                                dagar. 1                                \n",
      "därpå , 2                                därpå, 1                                \n",
      "förhöret . 2                             förhöret. 1                             \n",
      "lång , 2                                 lång, 1                                 \n",
      "skyldiga . 2                             skyldiga. 1                             \n",
      "inblandade , 2                           inblandade, 1                           \n",
      "landsförvisades . 2                      landsförvisades. 1                      \n",
      "folket , 2                               folket, 1                               \n",
      "1792 . 2                                 1792. 1                                 \n",
      "slott . 2                                slott. 1                                \n",
      "sömnig , 2                               sömnig, 1                               \n",
      "olyckliga , 2                            olyckliga, 1                            \n",
      "\" blivit 2                               \"blivit 1                               \n",
      "sorger , 2                               sorger, 1                               \n",
      "fritagen \" 2                             fritagen\" 1                             \n",
      "( 1746-1813 ) , 4                        (1746-1813), 1                          \n",
      "henne . 2                                henne. 1                                \n",
      "kärleksaffär , 2                         kärleksaffär, 1                         \n",
      "( född 2                                 (född 1                                 \n",
      ") , 2                                    ), 1                                    \n",
      "honom . 2                                honom. 1                                \n",
      "( Förhållandets 2                        (Förhållandets 1                        \n",
      "ifrågasatts . ) 3                        ifrågasatts.) 1                         \n",
      "kallsinnighet , 2                        kallsinnighet, 1                        \n",
      "makarna , 2                              makarna, 1                              \n",
      "tronföljare . 2                          tronföljare. 1                          \n",
      "( med 2                                  (med 1                                  \n",
      "1772 ) 2                                 1772) 1                                 \n",
      "tid , 2                                  tid, 1                                  \n",
      "barn , 2                                 barn, 1                                 \n",
      "föda . 2                                 föda. 1                                 \n",
      "son , 2                                  son, 1                                  \n",
      "därpå . 2                                därpå. 1                                \n",
      "tid , 2                                  tid, 1                                  \n",
      "Gustav . 2                               Gustav. 1                               \n",
      "lagar , 2                                lagar, 1                                \n",
      "en , 2                                   en, 1                                   \n",
      "innehållet , 2                           innehållet, 1                           \n",
      "konst . 2                                konst. 1                                \n",
      "väg , 2                                  väg, 1                                  \n",
      "tecknings- 1                             tecknings - 2                           \n",
      "tävlingsämne , 2                         tävlingsämne, 1                         \n",
      "pris . 2                                 pris. 1                                 \n",
      "talare . 2                               talare. 1                               \n",
      "ämnen ; 2                                ämnen; 1                                \n",
      "( i 2                                    (i 1                                    \n",
      "upplagor , 2                             upplagor, 1                             \n",
      "fransk-svensk ) . 3                      fransk-svensk). 1                       \n",
      "skrifter , 2                             skrifter, 1                             \n",
      "idkare , 2                               idkare, 1                               \n",
      "institutioner , 2                        institutioner, 1                        \n",
      "( 1771 ) , 4                             (1771), 1                               \n",
      "( 1773 ) , 4                             (1773), 1                               \n",
      "( 1786 ) 3                               (1786) 1                                \n",
      "( 1786 ) . 4                             (1786). 1                               \n",
      "balettkompanier , 2                      balettkompanier, 1                      \n",
      "1773 . 2                                 1773. 1                                 \n",
      "( i 2                                    (i 1                                    \n",
      "franskan ) 2                             franskan) 1                             \n",
      "svenska , 2                              svenska, 1                              \n",
      "konstnärerna , 2                         konstnärerna, 1                         \n",
      "utlänningar , 2                          utlänningar, 1                          \n",
      "( i 2                                    (i 1                                    \n",
      "1783-84 ) 2                              1783-84) 1                              \n",
      "räkning , 2                              räkning, 1                              \n",
      "1958 . 2                                 1958. 1                                 \n",
      "III , 2                                  III, 1                                  \n",
      "1808 . 2                                 1808. 1                                 \n",
      "kungar . 2                               kungar. 1                               \n",
      "drama- 1                                 drama - 2                               \n",
      "TV . 2                                   TV. 1                                   \n",
      "1859 , 2                                 1859, 1                                 \n",
      "förklädnad , 2                           förklädnad, 1                           \n",
      "III . 2                                  III. 1                                  \n",
      "Gustav , 2                               Gustav, 1                               \n",
      "teaterkonsten . 2                        teaterkonsten. 1                        \n",
      "bjöds . 2                                bjöds. 1                                \n",
      "barn . 2                                 barn. 1                                 \n",
      "komedi , 2                               komedi, 1                               \n",
      "gosse , 2                                gosse, 1                                \n",
      "på . 2                                   på. 1                                   \n",
      "skådespel , 2                            skådespel, 1                            \n",
      "skådespel , 2                            skådespel, 1                            \n",
      "medförfattare , 2                        medförfattare, 1                        \n",
      "( 1783 ) , 4                             (1783), 1                               \n",
      "( 1783 ) , 4                             (1783), 1                               \n",
      "( 1783 ) , 4                             (1783), 1                               \n",
      "( 1784 ) , 4                             (1784), 1                               \n",
      "( 1786 ; 3                               (1786; 1                                \n",
      "motiv . 2                                motiv. 1                                \n",
      "liv , 2                                  liv, 1                                  \n",
      "ämbetet , 2                              ämbetet, 1                              \n",
      "förtäckt . 2                             förtäckt. 1                             \n",
      "( 1788 ) 3                               (1788) 1                                \n",
      "( 1789 ) 3                               (1789) 1                                \n",
      "adeln . 2                                adeln. 1                                \n",
      "( 1789 ) 3                               (1789) 1                                \n",
      "pjäsen , 2                               pjäsen, 1                               \n",
      "( 1789 ) , 4                             (1789), 1                               \n",
      "personliga , 2                           personliga, 1                           \n",
      "relationsproblem , 2                     relationsproblem, 1                     \n",
      "konflikter , 2                           konflikter, 1                           \n",
      "människa . 2                             människa. 1                             \n",
      "kungen , 2                               kungen, 1                               \n",
      "tid . ) 3                                tid.) 1                                 \n",
      "III , 2                                  III, 1                                  \n",
      "uniform , 2                              uniform, 1                              \n",
      "1772 . 2                                 1772. 1                                 \n",
      "statskuppen . 2                          statskuppen. 1                          \n",
      "bröder . 2                               bröder. 1                               \n",
      "Karl , 2                                 Karl, 1                                 \n",
      "III , 2                                  III, 1                                  \n",
      "bilägersdräkt , 1766 . 4                 bilägersdräkt, 1766. 2                  \n",
      "2007 . 2                                 2007. 1                                 \n",
      "1772 . 2                                 1772. 1                                 \n",
      "( målat 2                                (målat 1                                \n",
      "( blått 2                                (blått 1                                \n",
      "kraschan ) , 3                           kraschan), 1                            \n",
      "( svart band ) 4                         (svart band) 2                          \n",
      "armbindel , 2                            armbindel, 1                            \n",
      "1772 . 2                                 1772. 1                                 \n",
      "hustru . 2                               hustru. 1                               \n",
      "III , 2                                  III, 1                                  \n",
      "1780-talet . 2                           1780-talet. 1                           \n",
      "ceremonidräkt . 2                        ceremonidräkt. 1                        \n",
      "stövletter , 2                           stövletter, 1                           \n",
      "ceremonidräkt . 2                        ceremonidräkt. 1                        \n",
      "III , 2                                  III, 1                                  \n",
      "1772-1774 . 2                            1772-1774. 1                            \n"
     ]
    }
   ],
   "source": [
    "# Helper function that formats a list of tokens\n",
    "def fmt_tokens(tokens):\n",
    "    return \"{} {}\".format(\" \".join(tokens), len(tokens))\n",
    "\n",
    "# Print out information about divergent subsequences\n",
    "print(\"Gold tokens\".ljust(40), \"Predicted tokens\".ljust(40))\n",
    "print()\n",
    "for gold_tokens, pred_tokens in nlp0.diff(gold1, tokenize_ws(text1)):\n",
    "    print(fmt_tokens(gold_tokens).ljust(40), fmt_tokens(pred_tokens).ljust(40))"
   ]
  },
  {
   "cell_type": "markdown",
   "metadata": {},
   "source": [
    "<div class=\"panel panel-primary\">\n",
    "<div class=\"panel-heading\">Problem 1</div>\n",
    "<div class=\"panel-body\">\n",
    "Examine the differences between the gold standard and the whitespace-based tokenisation. Try to classify different types of undersegmentation and think of ways how one could eliminate them. Give at least three examples from different types and describe their characteristics. Give at least one example of oversegmentation.\n",
    "</div>\n",
    "</div>\n",
    "\n",
    "In order to solve this problem, you can either examine the output from the previous code cell by hand or write code to solve this task for you."
   ]
  },
  {
   "cell_type": "code",
   "execution_count": 12,
   "metadata": {},
   "outputs": [],
   "source": [
    "# You might want to write some code here."
   ]
  },
  {
   "cell_type": "markdown",
   "metadata": {},
   "source": [
    "*TODO: Insert your answer to Problem&nbsp;1 here*\n",
    "\n",
    "Examples for different types of under-segmentation:\n",
    "\n",
    "* Example 1 [1771 – 1792 . 4   vs 1771–1792. 1]\n",
    "    * Here the gold standard wants to split on the special characters \"–\" and \".\" but the whitespace tokenizer does not support this\n",
    "* Example 2 [lös ! \" , 4   vs   lös!\", 1] \n",
    "    *  This is a similar issue. The gold standard considers the \"!\" character and the quotation mark as tokens on their own.\n",
    "* Example 3 löd ; Gustaf , 4   vs löd; Gustaf, 2\n",
    "    *  This is a similar issue. The gold standard considers the \";\" character and the \",\" character as tokens on their own.\n",
    "\n",
    "Example for over-segmentation:\n",
    "tecknings- 1    vs     tecknings - 2\n",
    "\n",
    "For this to occur the text must have contained \"tecknings - ...\"  and because of the whitespace our tokenizer chose to split into 2 tokens, but the gold standard considers it as one."
   ]
  },
  {
   "cell_type": "markdown",
   "metadata": {},
   "source": [
    "### Compute precision and recall\n",
    "\n",
    "One way to do a quantitative evaluation of the tokeniser is to compute its **precision** and its **recall**. Precision is defined as the percentage of correct tokens among all tokens the system has identified. Recall is defined as the percentage of correctly identified tokens among all tokens in the gold standard. In order to compute those values you can use the next code cell:"
   ]
  },
  {
   "cell_type": "code",
   "execution_count": 13,
   "metadata": {},
   "outputs": [
    {
     "name": "stdout",
     "output_type": "stream",
     "text": [
      "Errors: 1055\n",
      "Precision: 90.82%\n",
      "Recall: 82.03%\n"
     ]
    }
   ],
   "source": [
    "tokens_ws = tokenize_ws(text1)\n",
    "\n",
    "print(\"Errors: {}\".format(nlp0.n_errors(gold1, tokens_ws)))\n",
    "print(\"Precision: {:.2%}\".format(nlp0.precision(gold1, tokens_ws)))\n",
    "print(\"Recall: {:.2%}\".format(nlp0.recall(gold1, tokens_ws)))"
   ]
  },
  {
   "cell_type": "markdown",
   "metadata": {},
   "source": [
    "## Tokenisation based on regular expressions"
   ]
  },
  {
   "cell_type": "markdown",
   "metadata": {},
   "source": [
    "In the second part of this lab you will exchange the simple whitespace-based tokenisation with a more advanced tokenisation based on **regular expressions**. Before you can use regular expressions in Python you have to first load the relevant module:"
   ]
  },
  {
   "cell_type": "code",
   "execution_count": 14,
   "metadata": {},
   "outputs": [],
   "source": [
    "import re"
   ]
  },
  {
   "cell_type": "markdown",
   "metadata": {},
   "source": [
    "A simple tokeniser based on regular expressions looks like this:"
   ]
  },
  {
   "cell_type": "code",
   "execution_count": 15,
   "metadata": {},
   "outputs": [],
   "source": [
    "def tokenize_re(regex, lines):\n",
    "    output = []\n",
    "    for line in lines:\n",
    "        for match in re.finditer(regex, line):\n",
    "            output.append(match.group(0))\n",
    "    return output"
   ]
  },
  {
   "cell_type": "markdown",
   "metadata": {},
   "source": [
    "This function finds all longest, non-overlapping occurrences of the pattern `regex` in the row `line` and returns them as a list. The line is scanned from left to right and the matching substrings are returned in the same order.\n",
    "\n",
    "In order to simulate and run the whitespace-based tokeniser using regular expression you can use the following lines of code:"
   ]
  },
  {
   "cell_type": "code",
   "execution_count": 16,
   "metadata": {},
   "outputs": [
    {
     "name": "stdout",
     "output_type": "stream",
     "text": [
      "Errors: 9\n",
      "Precision: 99.85%\n",
      "Recall: 99.93%\n"
     ]
    },
    {
     "data": {
      "text/plain": [
       "[(['-förluster'], ['-', 'förluster']),\n",
       " (['tecknings-'], ['tecknings', '-']),\n",
       " (['drama-'], ['drama', '-'])]"
      ]
     },
     "execution_count": 16,
     "metadata": {},
     "output_type": "execute_result"
    }
   ],
   "source": [
    "# Regular expression the tokeniser will use \n",
    "zero = \"etc.\"                                 # Hardcoded\n",
    "first = \"\\w[\\'\\’]\\w+\"                         # E.g. d'andrea \n",
    "second = \"\\w+\\-\\w+\"                           # E.g. \"word1-word2\"\n",
    "third = \"\\w+\\-\"                               # E.g. \"förenings-\"\n",
    "fourth = \"\\w+[\\-\\.\\:]+(\\w+[\\-\\.\\:]?)+\"        # E.g. \"g.s.\"\n",
    "fifth = \"(\\'\\w+)\"                             # E.g. \"what're\" and this captures \"'re\"\n",
    "sixth = \"\\w+\"                                 # E.g. \"word\"\n",
    "seventh =\"\\S\"                                 # Special characters\n",
    "\n",
    "regex = r\"%s|%s|%s|%s|%s|%s|%s|%s\" % (zero, first, second, third, fourth, fifth, sixth, seventh)\n",
    "tokens_re = tokenize_re(regex, text1)\n",
    "\n",
    "\n",
    "print(\"Errors: {}\".format(nlp0.n_errors(gold1, tokens_re)))\n",
    "print(\"Precision: {:.2%}\".format(nlp0.precision(gold1, tokens_re)))\n",
    "print(\"Recall: {:.2%}\".format(nlp0.recall(gold1, tokens_re)))\n",
    "\n",
    "# In order to debug the regex, you might want to comment in the next line.\n",
    "nlp0.diff(gold1, tokens_re)"
   ]
  },
  {
   "cell_type": "markdown",
   "metadata": {},
   "source": [
    "<div class=\"panel panel-primary\">\n",
    "<div class=\"panel-heading\">Problem 2</div>\n",
    "<div class=\"panel-body\">\n",
    "Find a regular expression that eliminates as many differences between the gold standard and the automatic tokenisation as possible. Your final tokeniser should have at least 99.5% precision and recall.\n",
    "</div>\n",
    "</div>"
   ]
  },
  {
   "cell_type": "markdown",
   "metadata": {},
   "source": [
    "Here are some hints:\n",
    "\n",
    "* Read the [Regular Expression HOWTO](https://docs.python.org/3/howto/regex.html) and [the documentation for the module  `re`](https://docs.python.org/3.5/library/re.html).\n",
    "\n",
    "* If you want to use grouping sub-expressions, you might want to use *non-capturing* groups.\n",
    "\n",
    "* If your expression gets too long and hard to read, have a look at [`re.VERBOSE`](https://docs.python.org/3.5/library/re.html#re.VERBOSE) for writing the expression over multiple lines.\n",
    "\n",
    "* If you want to practice your regex skills a little more, hop over to [RegexOne](https://regexone.com) or [RegExr](http://regexr.com)."
   ]
  },
  {
   "cell_type": "markdown",
   "metadata": {},
   "source": [
    "## Evaluate the tokeniser on new text"
   ]
  },
  {
   "cell_type": "markdown",
   "metadata": {},
   "source": [
    "Your last task is to evaluate your tokeniser on another article from Swedish Wikipedia: [Katarina II av Ryssland](https://sv.wikipedia.org/wiki/Katarina_II_av_Ryssland). (She was Gustav&nbsp;III&rsquo;s cousin.)\n",
    "\n",
    "The raw text and the gold standard tokenisation is loaded like this:"
   ]
  },
  {
   "cell_type": "code",
   "execution_count": 17,
   "metadata": {},
   "outputs": [],
   "source": [
    "text2 = read_data(\"/home/TDDE09/labs/l0/data/text2.txt\")\n",
    "gold2 = read_data(\"/home/TDDE09/labs/l0/data/gold2.txt\")\n",
    "\n"
   ]
  },
  {
   "cell_type": "markdown",
   "metadata": {},
   "source": [
    "<div class=\"panel panel-primary\">\n",
    "<div class=\"panel-heading\">Problem 3</div>\n",
    "<div class=\"panel-body\">\n",
    "Evaluate your regular expression from Problem&nbsp;2 on the new text. Report the results and try to explain them. Write a short text (max. 250 words) of discussion.\n",
    "</div>\n",
    "</div>"
   ]
  },
  {
   "cell_type": "code",
   "execution_count": 18,
   "metadata": {},
   "outputs": [
    {
     "name": "stdout",
     "output_type": "stream",
     "text": [
      "Errors: 10\n",
      "Precision: 99.82%\n",
      "Recall: 99.92%\n"
     ]
    },
    {
     "data": {
      "text/plain": [
       "[(['Алексе́евна'], ['Алексе', '́', 'евна']),\n",
       " (['14000'], ['14', '000']),\n",
       " (['3000'], ['3', '000'])]"
      ]
     },
     "execution_count": 18,
     "metadata": {},
     "output_type": "execute_result"
    }
   ],
   "source": [
    "\n",
    "tokens_re = tokenize_re(regex, text2)\n",
    "\n",
    "\n",
    "print(\"Errors: {}\".format(nlp0.n_errors(gold2, tokens_re)))\n",
    "print(\"Precision: {:.2%}\".format(nlp0.precision(gold2, tokens_re)))\n",
    "print(\"Recall: {:.2%}\".format(nlp0.recall(gold2, tokens_re)))\n",
    "\n",
    "# In order to debug the regex, you might want to comment in the next line.\n",
    "nlp0.diff(gold2, tokens_re)"
   ]
  },
  {
   "cell_type": "markdown",
   "metadata": {},
   "source": [
    "\n",
    "With this new text we get 2 types of errors. The first error type is as follows:\n",
    "[(['Алексе́евна'], ['Алексе', 'евна']).\n",
    "Our regex fails here because the symbol е́ is not considered an alphanumeric character included in \\w.\n",
    "The second error is:\n",
    "(['14000'], ['14', '000'])\n",
    "This one occurs since the number is written as \"14 000\" in the text and this means that our regex will split based on the whitespace.\n"
   ]
  }
 ],
 "metadata": {
  "anaconda-cloud": {},
  "kernelspec": {
   "display_name": "Python 3",
   "language": "python",
   "name": "python3"
  },
  "language_info": {
   "codemirror_mode": {
    "name": "ipython",
    "version": 3
   },
   "file_extension": ".py",
   "mimetype": "text/x-python",
   "name": "python",
   "nbconvert_exporter": "python",
   "pygments_lexer": "ipython3",
   "version": "3.4.3"
  },
  "latex_envs": {
   "bibliofile": "biblio.bib",
   "cite_by": "apalike",
   "current_citInitial": 1,
   "eqLabelWithNumbers": true,
   "eqNumInitial": 0
  }
 },
 "nbformat": 4,
 "nbformat_minor": 1
}
